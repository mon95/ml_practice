{
 "cells": [
  {
   "cell_type": "markdown",
   "metadata": {},
   "source": [
    "# 0. Biased Random Sampling\n",
    "\n",
    "Given an array `q` such that `sum(q) = 1` and `0 <= q[i] <= 1`, generate a random variable $x$ such that $\\mathcal{P}\\{x=i\\}=q[i]$ -- `x` takes values in `range(len(q))` and `x = i` with probability `q[i]`.\n",
    "\n",
    "Write a barebones plain Python version first and then optimize it (easier with numpy)."
   ]
  },
  {
   "cell_type": "markdown",
   "metadata": {},
   "source": [
    "# 1. :suspicious:\n",
    "\n",
    "You're applying for a data scientist post in Mr. Grump's presidential campaign group. To impress him, you have come up with an idea to deny visas for Puerto Ricans.\n",
    "\n",
    "|1999|2000|2001|2002|2003|2004|2005|2006|2007|2008|2009|2010|\n",
    "-----|-----|-----|-----|-----|-----|-----|-----|-----|-----|\n",
    "People who died by falling out of their bed Deaths (US) (CDC)|400|450|516|551|594|503|621|626|690|737|780|718\n",
    "Lawyers in Puerto Rico|9,892|10,195|11,071|10,947|11,209|11,191|11,805|11,767|12,142|12,454|13,071|13,282\n",
    "\n",
    "_(real data from US CDC and Lawyers ABA)_\n",
    "\n",
    "Find trends in this data and present it. (Mr. Grump is a visual man and his aide is a numbers guy)\n",
    "\n",
    "**Hint 1:** find the [Pearson correlation coefficient](https://en.wikipedia.org/wiki/Pearson_product-moment_correlation_coefficient): $\\rho_{X,Y} = \\dfrac{\\mathrm{cov}(X,Y)}{\\sigma_X\\sigma_Y}$ where $\\mathrm{cov}$ is the covariance and $\\sigma_X$ is the standard deviation of $X$.\n",
    "\n",
    "**Hint 2:** If the fact that 400 people died from falling out of their beds in 1999 and those numbers just kept increasing with the number Puerto Rican lawyers isn't making you the least bit curious, move on to the next question."
   ]
  },
  {
   "cell_type": "code",
   "execution_count": null,
   "metadata": {
    "collapsed": true
   },
   "outputs": [],
   "source": [
    "#get data"
   ]
  },
  {
   "cell_type": "code",
   "execution_count": null,
   "metadata": {
    "collapsed": true
   },
   "outputs": [],
   "source": [
    "#plot graph"
   ]
  },
  {
   "cell_type": "code",
   "execution_count": null,
   "metadata": {
    "collapsed": true
   },
   "outputs": [],
   "source": [
    "#find correlation - can use other formulae for Pearson correlation coeff."
   ]
  },
  {
   "cell_type": "markdown",
   "metadata": {},
   "source": [
    "# 2. TEDx\n",
    "\n",
    "1. Read the json file into pandas.\n",
    "2. Display the top 10 languages and plot them.\n",
    "3. Plot view counts by langugae.\n",
    "\n",
    "(adapted from Berkeley's Open Data showcase)"
   ]
  },
  {
   "cell_type": "code",
   "execution_count": null,
   "metadata": {
    "collapsed": true
   },
   "outputs": [],
   "source": [
    "#add more cells if needed"
   ]
  },
  {
   "cell_type": "markdown",
   "metadata": {},
   "source": [
    "# 3. Death by Movie\n",
    "\n",
    "1. Parse `filmdeathcounts.csv`. Print the first few entries.\n",
    "2. For each film, compute the body count/minute.\n",
    "3. For each year, find the mean, median and total\n",
    "    1. `body count`\n",
    "    2. `minutes`\n",
    "    3. `body count/min`\n",
    "4. Visualize the following trends:\n",
    "    1. Number of films over the years in this dataset.\n",
    "    2. Total body count.\n",
    "    3. Mean, median (side by side) body counts\n",
    "    4. Mean, median (side by side) body counts/minute\n",
    "5. Find the most violent films -- visualize their ranks by plotting the total body count and body count per minute in descending order.\n",
    "6. Plot genre (x axis) by body count per minute (y axis) as a bar chart."
   ]
  },
  {
   "cell_type": "code",
   "execution_count": null,
   "metadata": {
    "collapsed": true
   },
   "outputs": [],
   "source": []
  }
 ],
 "metadata": {
  "kernelspec": {
   "display_name": "Python 2",
   "language": "python",
   "name": "python2"
  },
  "language_info": {
   "codemirror_mode": {
    "name": "ipython",
    "version": 2
   },
   "file_extension": ".py",
   "mimetype": "text/x-python",
   "name": "python",
   "nbconvert_exporter": "python",
   "pygments_lexer": "ipython2",
   "version": "2.7.10"
  }
 },
 "nbformat": 4,
 "nbformat_minor": 0
}
