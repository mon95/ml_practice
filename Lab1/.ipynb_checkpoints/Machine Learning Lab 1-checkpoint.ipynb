{
 "cells": [
  {
   "cell_type": "markdown",
   "metadata": {},
   "source": [
    "## 1. Swap Cases\n",
    "Given a string S, swap the cases fo the characters - convert all lowercase letters to uppercase letters and vice versa.\n",
    "\n",
    "Example: `Bleh, this is Boring.` should become `bLEH, THIS IS bORING`"
   ]
  },
  {
   "cell_type": "code",
   "execution_count": 5,
   "metadata": {
    "collapsed": false
   },
   "outputs": [
    {
     "name": "stdout",
     "output_type": "stream",
     "text": [
      "bLEH, THIS IS bORING\n"
     ]
    }
   ],
   "source": [
    "def swapCases(st):\n",
    "    #complete this function\n",
    "    ans = ''\n",
    "    for i in st:\n",
    "        if i.islower():\n",
    "            ans = ans + i.upper()\n",
    "        elif i.isupper():\n",
    "            ans = ans + i.lower()\n",
    "        else:\n",
    "            ans = ans + i\n",
    "    return ans\n",
    "\n",
    "print swapCases(\"Bleh, this is Boring\") #should print \"bLEH, THIS IS bORING\""
   ]
  },
  {
   "cell_type": "markdown",
   "metadata": {},
   "source": [
    "## 2. Keep Last N Items.\n",
    "For an infinite stream of integer data, keep the last N items.\n",
    "\n",
    "Infinite stream of integer data - data comes in one by one and all of it won't fit into memory."
   ]
  },
  {
   "cell_type": "code",
   "execution_count": 10,
   "metadata": {
    "collapsed": false
   },
   "outputs": [
    {
     "name": "stdout",
     "output_type": "stream",
     "text": [
      "deque([0], maxlen=5)\n",
      "deque([0, 1], maxlen=5)\n",
      "deque([0, 1, 2], maxlen=5)\n",
      "deque([0, 1, 2, 3], maxlen=5)\n",
      "deque([0, 1, 2, 3, 4], maxlen=5)\n",
      "deque([1, 2, 3, 4, 5], maxlen=5)\n",
      "deque([2, 3, 4, 5, 6], maxlen=5)\n",
      "deque([3, 4, 5, 6, 7], maxlen=5)\n",
      "deque([4, 5, 6, 7, 8], maxlen=5)\n",
      "deque([5, 6, 7, 8, 9], maxlen=5)\n"
     ]
    }
   ],
   "source": [
    "from collections import deque\n",
    "def lastNItems(n): #use yield\n",
    "    q = deque(maxlen=n)\n",
    "    \n",
    "    while True:\n",
    "        newElement = yield\n",
    "        q.append(newElement)\n",
    "        yield q  \n",
    "\n",
    "n = 5\n",
    "lastn = lastNItems(n)\n",
    "\n",
    "for y in xrange(10):\n",
    "    lastn.next()\n",
    "    print lastn.send(y)"
   ]
  },
  {
   "cell_type": "markdown",
   "metadata": {},
   "source": [
    "## 3. Find K largest items\n",
    "Find the largest K items of an infinite stream of integer data. If you are done with the other questions, find the K smallest items of an infinite stream."
   ]
  },
  {
   "cell_type": "code",
   "execution_count": 13,
   "metadata": {
    "collapsed": false
   },
   "outputs": [
    {
     "name": "stdout",
     "output_type": "stream",
     "text": [
      "[0]\n",
      "[0, 1]\n",
      "[0, 1, 2]\n",
      "[0, 1, 2, 3]\n",
      "[0, 1, 2, 3, 4]\n",
      "[1, 3, 2, 5, 4]\n",
      "[2, 3, 6, 5, 4]\n",
      "[3, 4, 6, 5, 7]\n",
      "[4, 5, 6, 8, 7]\n",
      "[5, 7, 6, 8, 9]\n"
     ]
    }
   ],
   "source": [
    "import heapq\n",
    "\n",
    "def findKLargest(k): #use yield\n",
    "    #complete this function\n",
    "    ans = []\n",
    "    while True:\n",
    "        nextele = yield\n",
    "        if len(ans) == k:\n",
    "            if ans[0] < nextele:\n",
    "                heapq.heapreplace(ans, nextele)\n",
    "        else:\n",
    "            heapq.heappush(ans, nextele)\n",
    "            \n",
    "        yield ans\n",
    "\n",
    "n = 5\n",
    "findK = findKLargest(n)\n",
    "\n",
    "for y in xrange(10):\n",
    "    findK.next()\n",
    "    print findK.send(y)"
   ]
  },
  {
   "cell_type": "code",
   "execution_count": 15,
   "metadata": {
    "collapsed": false
   },
   "outputs": [
    {
     "name": "stdout",
     "output_type": "stream",
     "text": [
      "0\n",
      "1 0\n",
      "2 0 1\n",
      "3 2 1 0\n",
      "4 3 1 0 2\n",
      "4 3 1 0 2\n",
      "4 3 1 0 2\n",
      "4 3 1 0 2\n",
      "4 3 1 0 2\n",
      "4 3 1 0 2\n",
      "4 3 1 0 2\n",
      "4 3 1 0 2\n",
      "4 3 1 0 2\n",
      "4 3 1 0 2\n",
      "4 3 1 0 2\n",
      "4 3 1 0 2\n",
      "4 3 1 0 2\n",
      "4 3 1 0 2\n",
      "4 3 1 0 2\n",
      "4 3 1 0 2\n"
     ]
    }
   ],
   "source": [
    "import heapq\n",
    "\n",
    "def kSmallest(k):\n",
    "    ans = [] # list to be used for the heap\n",
    "    \n",
    "    while True:\n",
    "        nextele = yield # Get the next element from the infinite stream of integers\n",
    "        \n",
    "        if len(ans) == k:\n",
    "            if -1*nextele > ans[0]:\n",
    "                heapq.heapreplace(ans, -1*nextele)\n",
    "        else:\n",
    "            heapq.heappush(ans, -1*nextele)\n",
    "        yield ans\n",
    "        \n",
    "k = 5\n",
    "ksmall = kSmallest(k)\n",
    "\n",
    "for y in xrange(20):\n",
    "    ksmall.next()\n",
    "    anslist = ksmall.send(y)\n",
    "    for i in anslist:\n",
    "        print -1*i,\n",
    "    print "
   ]
  },
  {
   "cell_type": "markdown",
   "metadata": {},
   "source": [
    "# 4. Dictionary Ops\n",
    "\n",
    "Given a dictionary of stock names and prices, \n",
    "1. Print the stocks in descending order of price, \n",
    "2. Ascending order of stock name, \n",
    "3. Find min and max of the prices.\n",
    "\n",
    "Given another dictionary of stock names and prices for a different time, \n",
    "1. Find the names of stocks common to both dictionaries, \n",
    "2. Create a dictionary of stocks found only in dictionary 1 but not 2 and\n",
    "3. Print the names of all stocks (each name should appear exactly once)."
   ]
  },
  {
   "cell_type": "code",
   "execution_count": 1,
   "metadata": {
    "collapsed": false
   },
   "outputs": [
    {
     "name": "stdout",
     "output_type": "stream",
     "text": [
      "Sorted by stock price(desc):  [{'price': 543.22, 'name': 'AAPL', 'shares': 50}, {'price': 91.1, 'name': 'IBM', 'shares': 100}, {'price': 21.09, 'name': 'FB', 'shares': 200}]\n",
      "\n",
      "Sorted by stock name:  [{'price': 543.22, 'name': 'AAPL', 'shares': 50}, {'price': 21.09, 'name': 'FB', 'shares': 200}, {'price': 91.1, 'name': 'IBM', 'shares': 100}]\n",
      "\n",
      "Min price = 21.09, Max price = 543.22\n"
     ]
    },
    {
     "ename": "NameError",
     "evalue": "global name 'itertools' is not defined",
     "output_type": "error",
     "traceback": [
      "\u001b[1;31m---------------------------------------------------------------------------\u001b[0m",
      "\u001b[1;31mNameError\u001b[0m                                 Traceback (most recent call last)",
      "\u001b[1;32m<ipython-input-1-6aa11acece2e>\u001b[0m in \u001b[0;36m<module>\u001b[1;34m()\u001b[0m\n\u001b[0;32m     27\u001b[0m \u001b[1;33m\u001b[0m\u001b[0m\n\u001b[0;32m     28\u001b[0m \u001b[0mdictionaryOps1\u001b[0m\u001b[1;33m(\u001b[0m\u001b[0mportfolio1\u001b[0m\u001b[1;33m)\u001b[0m\u001b[1;33m\u001b[0m\u001b[0m\n\u001b[1;32m---> 29\u001b[1;33m \u001b[0mdictionaryOps2\u001b[0m\u001b[1;33m(\u001b[0m\u001b[0mportfolio1\u001b[0m\u001b[1;33m,\u001b[0m \u001b[0mportfolio2\u001b[0m\u001b[1;33m)\u001b[0m\u001b[1;33m\u001b[0m\u001b[0m\n\u001b[0m",
      "\u001b[1;32m<ipython-input-1-6aa11acece2e>\u001b[0m in \u001b[0;36mdictionaryOps2\u001b[1;34m(dic1, dic2)\u001b[0m\n\u001b[0;32m     14\u001b[0m \u001b[1;32mdef\u001b[0m \u001b[0mdictionaryOps2\u001b[0m\u001b[1;33m(\u001b[0m\u001b[0mdic1\u001b[0m\u001b[1;33m,\u001b[0m \u001b[0mdic2\u001b[0m\u001b[1;33m)\u001b[0m\u001b[1;33m:\u001b[0m\u001b[1;33m\u001b[0m\u001b[0m\n\u001b[0;32m     15\u001b[0m     \u001b[1;31m#print all 3\u001b[0m\u001b[1;33m\u001b[0m\u001b[1;33m\u001b[0m\u001b[0m\n\u001b[1;32m---> 16\u001b[1;33m     \u001b[0mcommon_stocks\u001b[0m \u001b[1;33m=\u001b[0m \u001b[1;33m[\u001b[0m\u001b[0mx\u001b[0m\u001b[1;33m[\u001b[0m\u001b[1;34m'name'\u001b[0m\u001b[1;33m]\u001b[0m \u001b[1;32mfor\u001b[0m \u001b[0mx\u001b[0m\u001b[1;33m,\u001b[0m\u001b[0my\u001b[0m \u001b[1;32min\u001b[0m \u001b[0mitertools\u001b[0m\u001b[1;33m.\u001b[0m\u001b[0mproduct\u001b[0m\u001b[1;33m(\u001b[0m\u001b[0mdic1\u001b[0m\u001b[1;33m,\u001b[0m \u001b[0mdic2\u001b[0m\u001b[1;33m)\u001b[0m \u001b[1;32mif\u001b[0m \u001b[0mx\u001b[0m\u001b[1;33m[\u001b[0m\u001b[1;34m'name'\u001b[0m\u001b[1;33m]\u001b[0m \u001b[1;33m==\u001b[0m \u001b[0my\u001b[0m\u001b[1;33m[\u001b[0m\u001b[1;34m'name'\u001b[0m\u001b[1;33m]\u001b[0m\u001b[1;33m]\u001b[0m\u001b[1;33m\u001b[0m\u001b[0m\n\u001b[0m\u001b[0;32m     17\u001b[0m     \u001b[1;32mprint\u001b[0m \u001b[0mcommon_stocks\u001b[0m\u001b[1;33m\u001b[0m\u001b[0m\n\u001b[0;32m     18\u001b[0m     \u001b[1;32mpass\u001b[0m\u001b[1;33m\u001b[0m\u001b[0m\n",
      "\u001b[1;31mNameError\u001b[0m: global name 'itertools' is not defined"
     ]
    }
   ],
   "source": [
    "import itertools\n",
    "\n",
    "def dictionaryOps1(dic):\n",
    "    #print all 3 specified operations\n",
    "    desc_price_sorted = sorted(dic, key = lambda x:x['price'], reverse=True)\n",
    "    print \"Sorted by stock price(desc): \", desc_price_sorted\n",
    "    \n",
    "    asc_stock_name = sorted(dic, key = lambda x:x['name'])\n",
    "    print \"\\nSorted by stock name: \", asc_stock_name\n",
    "    \n",
    "    minp = min(dic, key= lambda x:x['price'])\n",
    "    maxp = max(dic, key= lambda x:x['price'])\n",
    "    \n",
    "    print \"\\nMin price = {0}, Max price = {1}\".format(minp['price'], maxp['price'])\n",
    "    \n",
    "def dictionaryOps2(dic1, dic2):\n",
    "    #print all 3\n",
    "    common_stocks = [x['name'] for x,y in itertools.product(dic1, dic2) if x['name'] == y['name']]\n",
    "    print common_stocks\n",
    "    pass\n",
    "    \n",
    "portfolio1 =[{'name':'IBM', 'shares': 100, 'price': 91.1},\n",
    "{'name':'AAPL', 'shares': 50, 'price': 543.22},\n",
    "{'name':'FB', 'shares': 200, 'price': 21.09}]\n",
    "\n",
    "portfolio2 = [{'name':'HPQ', 'shares': 35, 'price': 31.75},\n",
    "{'name':'YHOO', 'shares': 45, 'price': 16.35},\n",
    "{'name':'ACME', 'shares': 75, 'price': 115.65}]\n",
    "\n",
    "dictionaryOps1(portfolio1)\n",
    "dictionaryOps2(portfolio1, portfolio2)"
   ]
  },
  {
   "cell_type": "markdown",
   "metadata": {},
   "source": [
    "## 5. Naive Bayes Classifier\n",
    "![Bayes](bayes.jpg)\n",
    "\n",
    "### A Bayes Theorem Primer\n",
    "\n",
    "Take 2 statements A, B:\n",
    "\n",
    "    A) Greb played Pokemon Go today.\n",
    "    B) Greb drank Coke in Gaja.\n",
    "\n",
    "Some context about Greb: \n",
    "\n",
    "Of the last 60 days, Greb played Pokemon for 10 days. So, $ P(\\textrm{Greb playing pokemon}) = P(A) = \\frac{10}{60} \\approx 0.17 $\n",
    "\n",
    "Greb goes to Gaja and drinks Coke every day (in our ideal world, Gaja is open every day). Due to unforseen circumstances, he was off-campus for 2 weeks in the last 60 days. So, $ P(\\textrm{Greb drinking Coke in Gaja}) = P(B) = \\frac{60-14}{60} \\approx 0.76 $\n",
    "\n",
    "Now, in his quest to be the very best, Greb always goes to Gaja to catch Pokemon. The probability that Greb drinks a coke given that he plays Pokemon Go in Gaja (even at 3 AM sometimes) is $P(B|A) = 0.60$.\n",
    "\n",
    "Now, here's the question: What is the probability that Greb played Pokemon go given that he drank a coke at Gaja?\n",
    "\n",
    "$$ P(A|B) = \\frac{P(B|A)P(A)}{P(B)} = 0.13 $$"
   ]
  },
  {
   "cell_type": "markdown",
   "metadata": {},
   "source": [
    "### Document Classification\n",
    "\n",
    "(under construction)"
   ]
  },
  {
   "cell_type": "markdown",
   "metadata": {},
   "source": [
    "## 6. Data Cleanup\n",
    "\n",
    "### Remove Punctuation\n",
    "\n",
    "Take an input string and return it will all punctuation and excess whitespace removed.\n",
    "\n",
    "\"To be, or naught  to be.\" becomes \"To be or naught to be\"\n",
    "\n",
    "\"K,  bro!\" should become \"K bro\"\n"
   ]
  },
  {
   "cell_type": "code",
   "execution_count": 2,
   "metadata": {
    "collapsed": false,
    "scrolled": true
   },
   "outputs": [
    {
     "ename": "IndentationError",
     "evalue": "expected an indented block (<ipython-input-2-e190e8c5393a>, line 2)",
     "output_type": "error",
     "traceback": [
      "\u001b[1;36m  File \u001b[1;32m\"<ipython-input-2-e190e8c5393a>\"\u001b[1;36m, line \u001b[1;32m2\u001b[0m\n\u001b[1;33m    # code here\u001b[0m\n\u001b[1;37m               ^\u001b[0m\n\u001b[1;31mIndentationError\u001b[0m\u001b[1;31m:\u001b[0m expected an indented block\n"
     ]
    }
   ],
   "source": [
    "def removePunctuation(s):\n",
    "    # code here\n",
    "    "
   ]
  },
  {
   "cell_type": "markdown",
   "metadata": {},
   "source": [
    "### Tokenize\n",
    "\n",
    "Return a list of words from an input string."
   ]
  },
  {
   "cell_type": "code",
   "execution_count": 4,
   "metadata": {
    "collapsed": false
   },
   "outputs": [
    {
     "ename": "IndentationError",
     "evalue": "expected an indented block (<ipython-input-4-91f5b3c0f303>, line 2)",
     "output_type": "error",
     "traceback": [
      "\u001b[1;36m  File \u001b[1;32m\"<ipython-input-4-91f5b3c0f303>\"\u001b[1;36m, line \u001b[1;32m2\u001b[0m\n\u001b[1;33m    # code bro code\u001b[0m\n\u001b[1;37m                   ^\u001b[0m\n\u001b[1;31mIndentationError\u001b[0m\u001b[1;31m:\u001b[0m expected an indented block\n"
     ]
    }
   ],
   "source": [
    "def tokenize(s):\n",
    "    # code bro code"
   ]
  },
  {
   "cell_type": "markdown",
   "metadata": {},
   "source": [
    "### Count\n",
    "\n",
    "From a list of words return a dictionary that mantains a count for each word in the original list."
   ]
  },
  {
   "cell_type": "code",
   "execution_count": 3,
   "metadata": {
    "collapsed": false
   },
   "outputs": [
    {
     "ename": "IndentationError",
     "evalue": "expected an indented block (<ipython-input-3-20d5b4dcc23d>, line 2)",
     "output_type": "error",
     "traceback": [
      "\u001b[1;36m  File \u001b[1;32m\"<ipython-input-3-20d5b4dcc23d>\"\u001b[1;36m, line \u001b[1;32m2\u001b[0m\n\u001b[1;33m    # something\u001b[0m\n\u001b[1;37m               ^\u001b[0m\n\u001b[1;31mIndentationError\u001b[0m\u001b[1;31m:\u001b[0m expected an indented block\n"
     ]
    }
   ],
   "source": [
    "def count(s):\n",
    "    # something"
   ]
  }
 ],
 "metadata": {
  "kernelspec": {
   "display_name": "Python 2",
   "language": "python",
   "name": "python2"
  },
  "language_info": {
   "codemirror_mode": {
    "name": "ipython",
    "version": 2
   },
   "file_extension": ".py",
   "mimetype": "text/x-python",
   "name": "python",
   "nbconvert_exporter": "python",
   "pygments_lexer": "ipython2",
   "version": "2.7.11"
  }
 },
 "nbformat": 4,
 "nbformat_minor": 0
}
