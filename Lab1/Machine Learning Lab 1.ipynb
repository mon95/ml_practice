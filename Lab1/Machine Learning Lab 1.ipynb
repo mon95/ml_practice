{
 "cells": [
  {
   "cell_type": "markdown",
   "metadata": {},
   "source": [
    "## 1. Swap Cases\n",
    "Given a string S, swap the cases fo the characters - convert all lowercase letters to uppercase letters and vice versa.\n",
    "\n",
    "Example: `Bleh, this is Boring.` should become `bLEH, THIS IS bORING`"
   ]
  },
  {
   "cell_type": "code",
   "execution_count": 5,
   "metadata": {
    "collapsed": false
   },
   "outputs": [
    {
     "name": "stdout",
     "output_type": "stream",
     "text": [
      "bLEH, THIS IS bORING\n"
     ]
    }
   ],
   "source": [
    "def swapCases(st):\n",
    "    #complete this function\n",
    "    ans = ''\n",
    "    for i in st:\n",
    "        if i.islower():\n",
    "            ans = ans + i.upper()\n",
    "        elif i.isupper():\n",
    "            ans = ans + i.lower()\n",
    "        else:\n",
    "            ans = ans + i\n",
    "    return ans\n",
    "\n",
    "print swapCases(\"Bleh, this is Boring\") #should print \"bLEH, THIS IS bORING\""
   ]
  },
  {
   "cell_type": "markdown",
   "metadata": {},
   "source": [
    "## 2. Keep Last N Items.\n",
    "For an infinite stream of integer data, keep the last N items.\n",
    "\n",
    "Infinite stream of integer data - data comes in one by one and all of it won't fit into memory."
   ]
  },
  {
   "cell_type": "code",
   "execution_count": 10,
   "metadata": {
    "collapsed": false
   },
   "outputs": [
    {
     "name": "stdout",
     "output_type": "stream",
     "text": [
      "deque([0], maxlen=5)\n",
      "deque([0, 1], maxlen=5)\n",
      "deque([0, 1, 2], maxlen=5)\n",
      "deque([0, 1, 2, 3], maxlen=5)\n",
      "deque([0, 1, 2, 3, 4], maxlen=5)\n",
      "deque([1, 2, 3, 4, 5], maxlen=5)\n",
      "deque([2, 3, 4, 5, 6], maxlen=5)\n",
      "deque([3, 4, 5, 6, 7], maxlen=5)\n",
      "deque([4, 5, 6, 7, 8], maxlen=5)\n",
      "deque([5, 6, 7, 8, 9], maxlen=5)\n"
     ]
    }
   ],
   "source": [
    "from collections import deque\n",
    "def lastNItems(n): #use yield\n",
    "    q = deque(maxlen=n)\n",
    "    \n",
    "    while True:\n",
    "        newElement = yield\n",
    "        q.append(newElement)\n",
    "        yield q  \n",
    "\n",
    "n = 5\n",
    "lastn = lastNItems(n)\n",
    "\n",
    "for y in xrange(10):\n",
    "    lastn.next()\n",
    "    print lastn.send(y)"
   ]
  },
  {
   "cell_type": "markdown",
   "metadata": {},
   "source": [
    "## 3. Find K largest items\n",
    "Find the largest K items of an infinite stream of integer data. If you are done with the other questions, find the K smallest items of an infinite stream."
   ]
  },
  {
   "cell_type": "code",
   "execution_count": 13,
   "metadata": {
    "collapsed": false
   },
   "outputs": [
    {
     "name": "stdout",
     "output_type": "stream",
     "text": [
      "[0]\n",
      "[0, 1]\n",
      "[0, 1, 2]\n",
      "[0, 1, 2, 3]\n",
      "[0, 1, 2, 3, 4]\n",
      "[1, 3, 2, 5, 4]\n",
      "[2, 3, 6, 5, 4]\n",
      "[3, 4, 6, 5, 7]\n",
      "[4, 5, 6, 8, 7]\n",
      "[5, 7, 6, 8, 9]\n"
     ]
    }
   ],
   "source": [
    "import heapq\n",
    "\n",
    "def findKLargest(k): #use yield\n",
    "    #complete this function\n",
    "    ans = []\n",
    "    while True:\n",
    "        nextele = yield\n",
    "        if len(ans) == k:\n",
    "            if ans[0] < nextele:\n",
    "                heapq.heapreplace(ans, nextele)\n",
    "        else:\n",
    "            heapq.heappush(ans, nextele)\n",
    "            \n",
    "        yield ans\n",
    "\n",
    "n = 5\n",
    "findK = findKLargest(n)\n",
    "\n",
    "for y in xrange(10):\n",
    "    findK.next()\n",
    "    print findK.send(y)"
   ]
  },
  {
   "cell_type": "code",
   "execution_count": 15,
   "metadata": {
    "collapsed": false
   },
   "outputs": [
    {
     "name": "stdout",
     "output_type": "stream",
     "text": [
      "0\n",
      "1 0\n",
      "2 0 1\n",
      "3 2 1 0\n",
      "4 3 1 0 2\n",
      "4 3 1 0 2\n",
      "4 3 1 0 2\n",
      "4 3 1 0 2\n",
      "4 3 1 0 2\n",
      "4 3 1 0 2\n",
      "4 3 1 0 2\n",
      "4 3 1 0 2\n",
      "4 3 1 0 2\n",
      "4 3 1 0 2\n",
      "4 3 1 0 2\n",
      "4 3 1 0 2\n",
      "4 3 1 0 2\n",
      "4 3 1 0 2\n",
      "4 3 1 0 2\n",
      "4 3 1 0 2\n"
     ]
    }
   ],
   "source": [
    "import heapq\n",
    "\n",
    "def kSmallest(k):\n",
    "    ans = [] # list to be used for the heap\n",
    "    \n",
    "    while True:\n",
    "        nextele = yield # Get the next element from the infinite stream of integers\n",
    "        \n",
    "        if len(ans) == k:\n",
    "            if -1*nextele > ans[0]:\n",
    "                heapq.heapreplace(ans, -1*nextele)\n",
    "        else:\n",
    "            heapq.heappush(ans, -1*nextele)\n",
    "        yield ans\n",
    "        \n",
    "k = 5\n",
    "ksmall = kSmallest(k)\n",
    "\n",
    "for y in xrange(20):\n",
    "    ksmall.next()\n",
    "    anslist = ksmall.send(y)\n",
    "    for i in anslist:\n",
    "        print -1*i,\n",
    "    print "
   ]
  },
  {
   "cell_type": "markdown",
   "metadata": {},
   "source": [
    "# 4. Dictionary Ops\n",
    "\n",
    "Given a dictionary of stock names and prices, \n",
    "1. Print the stocks in descending order of price, \n",
    "2. Ascending order of stock name, \n",
    "3. Find min and max of the prices.\n",
    "\n",
    "Given another dictionary of stock names and prices for a different time, \n",
    "1. Find the names of stocks common to both dictionaries, \n",
    "2. Create a dictionary of stocks found only in dictionary 1 but not 2 and\n",
    "3. Print the names of all stocks (each name should appear exactly once)."
   ]
  },
  {
   "cell_type": "code",
   "execution_count": 21,
   "metadata": {
    "collapsed": false
   },
   "outputs": [
    {
     "name": "stdout",
     "output_type": "stream",
     "text": [
      "Sorted by stock price(desc):  [{'price': 543.22, 'name': 'AAPL', 'shares': 50}, {'price': 91.1, 'name': 'IBM', 'shares': 100}, {'price': 21.09, 'name': 'FB', 'shares': 200}]\n",
      "\n",
      "Sorted by stock name:  [{'price': 543.22, 'name': 'AAPL', 'shares': 50}, {'price': 21.09, 'name': 'FB', 'shares': 200}, {'price': 91.1, 'name': 'IBM', 'shares': 100}]\n",
      "\n",
      "Min price = 21.09, Max price = 543.22\n",
      "\n",
      "\n",
      "dicOps 2\n",
      "\n",
      "[]\n",
      "[{'price': 91.1, 'name': 'IBM', 'shares': 100}, {'price': 543.22, 'name': 'AAPL', 'shares': 50}, {'price': 21.09, 'name': 'FB', 'shares': 200}]\n",
      "set(['FB', 'IBM', 'ACME', 'YHOO', 'AAPL', 'HPQ'])\n"
     ]
    }
   ],
   "source": [
    "import itertools\n",
    "\n",
    "def dictionaryOps1(dic):\n",
    "#     print all 3 specified operations\n",
    "\n",
    "    desc_price_sorted = sorted(dic, key = lambda x:x['price'], reverse=True)\n",
    "    print \"Sorted by stock price(desc): \", desc_price_sorted\n",
    "    \n",
    "    asc_stock_name = sorted(dic, key = lambda x:x['name'])\n",
    "    print \"\\nSorted by stock name: \", asc_stock_name\n",
    "    \n",
    "    minp = min(dic, key= lambda x:x['price'])\n",
    "    maxp = max(dic, key= lambda x:x['price'])\n",
    "    \n",
    "    print \"\\nMin price = {0}, Max price = {1}\".format(minp['price'], maxp['price'])\n",
    "    \n",
    "    \n",
    "def dictionaryOps2(dic1, dic2):\n",
    "    #print all 3\n",
    "    print \"\\n\\ndicOps 2\\n\"\n",
    "    for x,y in itertools.product(dic1, dic2):\n",
    "#         print x['name'], y['name']\n",
    "        pass\n",
    "        \n",
    "    common_stocks = [x['name'] for x,y in itertools.product(dic1, dic2) if x['name'] == y['name']]\n",
    "    print common_stocks\n",
    "    \n",
    "    exclusive_d1_stocks = [x for x in dic1 if x not in dic2]\n",
    "    print exclusive_d1_stocks\n",
    "    \n",
    "    s1 = [x['name'] for x in dic1]\n",
    "    s2 =[x['name'] for x in dic2]\n",
    "    \n",
    "    print set(s1) | set(s2)\n",
    "    pass\n",
    "    \n",
    "portfolio1 =[{'name':'IBM', 'shares': 100, 'price': 91.1},\n",
    "{'name':'AAPL', 'shares': 50, 'price': 543.22},\n",
    "{'name':'FB', 'shares': 200, 'price': 21.09}]\n",
    "\n",
    "portfolio2 = [{'name':'HPQ', 'shares': 35, 'price': 31.75},\n",
    "{'name':'YHOO', 'shares': 45, 'price': 16.35},\n",
    "{'name':'ACME', 'shares': 75, 'price': 115.65}]\n",
    "\n",
    "dictionaryOps1(portfolio1)\n",
    "dictionaryOps2(portfolio1, portfolio2)"
   ]
  },
  {
   "cell_type": "markdown",
   "metadata": {},
   "source": [
    "## 5. Naive Bayes Classifier\n",
    "![Bayes](bayes.jpg)\n",
    "\n",
    "### A Bayes Theorem Primer\n",
    "\n",
    "Take 2 statements A, B:\n",
    "\n",
    "    A) Greb played Pokemon Go today.\n",
    "    B) Greb drank Coke in Gaja.\n",
    "\n",
    "Some context about Greb: \n",
    "\n",
    "Of the last 60 days, Greb played Pokemon for 10 days. So, $ P(\\textrm{Greb playing pokemon}) = P(A) = \\frac{10}{60} \\approx 0.17 $\n",
    "\n",
    "Greb goes to Gaja and drinks Coke every day (in our ideal world, Gaja is open every day). Due to unforseen circumstances, he was off-campus for 2 weeks in the last 60 days. So, $ P(\\textrm{Greb drinking Coke in Gaja}) = P(B) = \\frac{60-14}{60} \\approx 0.76 $\n",
    "\n",
    "Now, in his quest to be the very best, Greb always goes to Gaja to catch Pokemon. The probability that Greb drinks a coke given that he plays Pokemon Go in Gaja (even at 3 AM sometimes) is $P(B|A) = 0.60$.\n",
    "\n",
    "Now, here's the question: What is the probability that Greb played Pokemon go given that he drank a coke at Gaja?\n",
    "\n",
    "$$ P(A|B) = \\frac{P(B|A)P(A)}{P(B)} = 0.13 $$"
   ]
  },
  {
   "cell_type": "markdown",
   "metadata": {},
   "source": [
    "### Document Classification\n",
    "\n",
    "(under construction)"
   ]
  },
  {
   "cell_type": "markdown",
   "metadata": {},
   "source": [
    "## 6. Data Cleanup\n",
    "\n",
    "### Remove Punctuation\n",
    "\n",
    "Take an input string and return it will all punctuation and excess whitespace removed.\n",
    "\n",
    "\"To be, or naught  to be.\" becomes \"To be or naught to be\"\n",
    "\n",
    "\"K,  bro!\" should become \"K bro\"\n"
   ]
  },
  {
   "cell_type": "code",
   "execution_count": 27,
   "metadata": {
    "collapsed": false,
    "scrolled": true
   },
   "outputs": [
    {
     "data": {
      "text/plain": [
       "'K   bro'"
      ]
     },
     "execution_count": 27,
     "metadata": {},
     "output_type": "execute_result"
    }
   ],
   "source": [
    "import string\n",
    "import re\n",
    "def removePunctuation(s):\n",
    "    return s.translate(string.maketrans(\"\",\"\"),string.punctuation)\n",
    "removePunctuation(\"K,   bro\")"
   ]
  },
  {
   "cell_type": "markdown",
   "metadata": {},
   "source": [
    "### Tokenize\n",
    "\n",
    "Return a list of words from an input string."
   ]
  },
  {
   "cell_type": "code",
   "execution_count": 29,
   "metadata": {
    "collapsed": false
   },
   "outputs": [
    {
     "data": {
      "text/plain": [
       "['you', 'mamam', 'mamam', 'yeah']"
      ]
     },
     "execution_count": 29,
     "metadata": {},
     "output_type": "execute_result"
    }
   ],
   "source": [
    "def tokenize(s):\n",
    "    # code bro code\n",
    "    return re.split(\"\\W+\", removePunctuation(s).lower())\n",
    "tokenize(\"you mamam mamam yeah\")"
   ]
  },
  {
   "cell_type": "markdown",
   "metadata": {},
   "source": [
    "### Count\n",
    "\n",
    "From a list of words return a dictionary that mantains a count for each word in the original list."
   ]
  },
  {
   "cell_type": "code",
   "execution_count": 30,
   "metadata": {
    "collapsed": false
   },
   "outputs": [],
   "source": [
    "from collections import defaultdict\n",
    "\n",
    "def count(s):\n",
    "    # something\n",
    "    count_dict = defaultdict(int)\n",
    "    for word in s:\n",
    "        count_dict[word] += 1\n",
    "        \n",
    "    return count_dict\n"
   ]
  },
  {
   "cell_type": "code",
   "execution_count": 32,
   "metadata": {
    "collapsed": false
   },
   "outputs": [
    {
     "name": "stdout",
     "output_type": "stream",
     "text": [
      "defaultdict(<type 'int'>, {'bro': 1, 'k': 1})\n"
     ]
    }
   ],
   "source": [
    "print count(tokenize(\"K,  bro!\"))"
   ]
  },
  {
   "cell_type": "code",
   "execution_count": null,
   "metadata": {
    "collapsed": true
   },
   "outputs": [],
   "source": []
  }
 ],
 "metadata": {
  "kernelspec": {
   "display_name": "Python 2",
   "language": "python",
   "name": "python2"
  },
  "language_info": {
   "codemirror_mode": {
    "name": "ipython",
    "version": 2
   },
   "file_extension": ".py",
   "mimetype": "text/x-python",
   "name": "python",
   "nbconvert_exporter": "python",
   "pygments_lexer": "ipython2",
   "version": "2.7.11"
  }
 },
 "nbformat": 4,
 "nbformat_minor": 0
}
